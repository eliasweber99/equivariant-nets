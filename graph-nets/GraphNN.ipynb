{
 "cells": [
  {
   "cell_type": "code",
   "execution_count": 6,
   "id": "1952e321-1b1a-48af-b8ef-b3302915ea2c",
   "metadata": {
    "tags": []
   },
   "outputs": [],
   "source": [
    "import torch_geometric as pyg\n",
    "from torch_geometric import nn, datasets\n",
    "from torch_geometric.loader import DataLoader\n",
    "from torch import optim"
   ]
  },
  {
   "cell_type": "code",
   "execution_count": 2,
   "id": "4f10e71f-6af4-402b-97ed-05013094762e",
   "metadata": {
    "tags": []
   },
   "outputs": [],
   "source": [
    "data = datasets.MovieLens100K('./data')"
   ]
  },
  {
   "cell_type": "code",
   "execution_count": 37,
   "id": "dc19ba41-7717-40a9-b5bd-3a36e670eddc",
   "metadata": {
    "tags": []
   },
   "outputs": [],
   "source": [
    "movies = next(iter(data))['movie']\n",
    "users = next(iter(data))['user']\n",
    "edges = next(iter(data))['user', 'rates', 'movie']"
   ]
  },
  {
   "cell_type": "code",
   "execution_count": 40,
   "id": "677ac0c8-007d-46ef-ab4e-284cbcc7b72c",
   "metadata": {
    "tags": []
   },
   "outputs": [
    {
     "data": {
      "text/plain": [
       "torch.Size([1682, 18])"
      ]
     },
     "execution_count": 40,
     "metadata": {},
     "output_type": "execute_result"
    }
   ],
   "source": [
    "movies.x.shape"
   ]
  },
  {
   "cell_type": "code",
   "execution_count": 41,
   "id": "90223f55-a2a5-4f41-ae08-337689ab5875",
   "metadata": {
    "tags": []
   },
   "outputs": [
    {
     "data": {
      "text/plain": [
       "torch.Size([943, 24])"
      ]
     },
     "execution_count": 41,
     "metadata": {},
     "output_type": "execute_result"
    }
   ],
   "source": [
    "users.x.shape"
   ]
  },
  {
   "cell_type": "code",
   "execution_count": 61,
   "id": "998b9f1b-fc85-45a1-9fee-ae5d2bbde711",
   "metadata": {
    "tags": []
   },
   "outputs": [
    {
     "data": {
      "text/plain": [
       "tensor([ 0,  1,  2,  3,  4,  6,  7,  8, 10, 12])"
      ]
     },
     "execution_count": 61,
     "metadata": {},
     "output_type": "execute_result"
    }
   ],
   "source": [
    "edges.edge_index[1,:10]"
   ]
  },
  {
   "cell_type": "code",
   "execution_count": 54,
   "id": "a427324b-e77f-47a1-b45f-7e6a53829f44",
   "metadata": {
    "tags": []
   },
   "outputs": [
    {
     "data": {
      "text/plain": [
       "tensor([5, 3, 4,  ..., 3, 3, 3])"
      ]
     },
     "execution_count": 54,
     "metadata": {},
     "output_type": "execute_result"
    }
   ],
   "source": [
    "edges.rating"
   ]
  },
  {
   "cell_type": "code",
   "execution_count": 63,
   "id": "335b2ddd-1bca-4760-8efc-f2afa8f39d82",
   "metadata": {
    "tags": []
   },
   "outputs": [
    {
     "data": {
      "text/plain": [
       "tensor([ 5,  9, 11, 13, 16, 19, 22, 23, 26, 30])"
      ]
     },
     "execution_count": 63,
     "metadata": {},
     "output_type": "execute_result"
    }
   ],
   "source": [
    "edges.edge_label_index[1,:10]"
   ]
  },
  {
   "cell_type": "code",
   "execution_count": null,
   "id": "6a8c6ceb-ba63-4671-b80b-d64bc568ec91",
   "metadata": {},
   "outputs": [],
   "source": []
  }
 ],
 "metadata": {
  "kernelspec": {
   "display_name": "Python 3 (ipykernel)",
   "language": "python",
   "name": "python3"
  },
  "language_info": {
   "codemirror_mode": {
    "name": "ipython",
    "version": 3
   },
   "file_extension": ".py",
   "mimetype": "text/x-python",
   "name": "python",
   "nbconvert_exporter": "python",
   "pygments_lexer": "ipython3",
   "version": "3.10.11"
  }
 },
 "nbformat": 4,
 "nbformat_minor": 5
}
