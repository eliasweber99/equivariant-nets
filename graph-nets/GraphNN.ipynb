{
 "cells": [
  {
   "cell_type": "code",
   "execution_count": 1,
   "id": "1952e321-1b1a-48af-b8ef-b3302915ea2c",
   "metadata": {
    "tags": []
   },
   "outputs": [],
   "source": [
    "import torch\n",
    "from torch import nn, optim\n",
    "\n",
    "from matplotlib import pyplot as plt\n",
    "\n",
    "from tqdm.notebook import tqdm\n",
    "\n",
    "from model import GraphNet\n",
    "from data_utils import ML100KDataset"
   ]
  },
  {
   "cell_type": "code",
   "execution_count": 2,
   "id": "fee25779-8a63-44b3-befe-2e7b56423f86",
   "metadata": {},
   "outputs": [],
   "source": [
    "dataset = ML100KDataset()"
   ]
  },
  {
   "cell_type": "code",
   "execution_count": 3,
   "id": "263f0185-caad-4aa1-b9e9-8119a9449cf8",
   "metadata": {},
   "outputs": [],
   "source": [
    "device = torch.device('cuda' if torch.cuda.is_available() else 'cpu')"
   ]
  },
  {
   "cell_type": "code",
   "execution_count": 4,
   "id": "b54fb75b-2d05-4201-9906-94cd4c75c11a",
   "metadata": {
    "tags": []
   },
   "outputs": [],
   "source": [
    "model = GraphNet([32, 32], 1, 5, dropout_conv=0.0, dropout_lin=0.0, device=device)\n",
    "# model = GraphNet([16, 16, 16, 16, 16, 16], 1, 5)"
   ]
  },
  {
   "cell_type": "code",
   "execution_count": 5,
   "id": "a8fd0cca-f0d8-4266-aef4-5dd9eb652386",
   "metadata": {},
   "outputs": [
    {
     "data": {
      "text/plain": [
       "23617"
      ]
     },
     "execution_count": 5,
     "metadata": {},
     "output_type": "execute_result"
    }
   ],
   "source": [
    "sum([p.numel() for p in model.parameters()])"
   ]
  },
  {
   "cell_type": "markdown",
   "id": "b51a6c4e-1afb-40c8-b890-ffbff1b3d95c",
   "metadata": {},
   "source": [
    "##### train func"
   ]
  },
  {
   "cell_type": "code",
   "execution_count": 6,
   "id": "1f97bce1-cefd-4419-aefb-7c26bceaa403",
   "metadata": {
    "tags": []
   },
   "outputs": [],
   "source": [
    "def train(model, dataset, optimizer, criterion, h_hops, n_epochs, batch_size, lam=1e-3):\n",
    "    losses = []\n",
    "    sim_losses = []\n",
    "    model.train(True)\n",
    "\n",
    "    MAXITER = 10000 #len(dataset)\n",
    "    for e in tqdm(range(n_epochs)):\n",
    "        shape = (MAXITER//batch_size, batch_size)\n",
    "        permutation = torch.randperm(MAXITER)[:shape[0]*shape[1]]\n",
    "        permutation = permutation.reshape(shape)\n",
    "        pbar = tqdm(permutation, leave=False)\n",
    "        for batch in pbar:\n",
    "            # zero gradients\n",
    "            optimizer.zero_grad()\n",
    "            # prepare empty lists\n",
    "            predictions = torch.empty(batch_size)\n",
    "            ground_truths = torch.empty(batch_size)\n",
    "            for iteration, index in enumerate(batch):\n",
    "                # get data\n",
    "                data, target_nodes, r = dataset[index]\n",
    "                # get prediction\n",
    "                r_hat = model(*data, *target_nodes)\n",
    "                ground_truths[iteration] = r\n",
    "                predictions[iteration] = r_hat\n",
    "            # calculate loss\n",
    "            crit_loss = criterion(predictions, ground_truths)\n",
    "            sim_loss = torch.tensor(0.)\n",
    "            for i in range(model.network_depth):\n",
    "                layer = model.get_submodule(f'conv{i}.module_0')\n",
    "                w = layer.get_parameter('weight')\n",
    "                for k in range(5-1):\n",
    "                    sim_loss += torch.nn.functional.mse_loss(w[k], w[k+1])\n",
    "            \n",
    "            loss = crit_loss + lam*sim_loss\n",
    "            loss.backward()\n",
    "            optimizer.step()\n",
    "            \n",
    "            losses.append(crit_loss.item())            \n",
    "            sim_losses.append(sim_loss.item())\n",
    "            pbar.set_description(f'{losses[-1]:1.4f}')\n",
    "    model.train(False)\n",
    "    return losses, sim_losses"
   ]
  },
  {
   "cell_type": "markdown",
   "id": "a5d650bf-3e29-485e-bb92-4a51e95220c6",
   "metadata": {},
   "source": [
    "##### back"
   ]
  },
  {
   "cell_type": "code",
   "execution_count": 7,
   "id": "1d720596-4800-4f58-9c8d-0d0e70d68096",
   "metadata": {
    "tags": []
   },
   "outputs": [
    {
     "data": {
      "application/vnd.jupyter.widget-view+json": {
       "model_id": "ad92bccb83f948fdbc3107da0d3e9276",
       "version_major": 2,
       "version_minor": 0
      },
      "text/plain": [
       "  0%|          | 0/2 [00:00<?, ?it/s]"
      ]
     },
     "metadata": {},
     "output_type": "display_data"
    },
    {
     "data": {
      "application/vnd.jupyter.widget-view+json": {
       "model_id": "",
       "version_major": 2,
       "version_minor": 0
      },
      "text/plain": [
       "  0%|          | 0/312 [00:00<?, ?it/s]"
      ]
     },
     "metadata": {},
     "output_type": "display_data"
    },
    {
     "data": {
      "application/vnd.jupyter.widget-view+json": {
       "model_id": "",
       "version_major": 2,
       "version_minor": 0
      },
      "text/plain": [
       "  0%|          | 0/312 [00:00<?, ?it/s]"
      ]
     },
     "metadata": {},
     "output_type": "display_data"
    }
   ],
   "source": [
    "l, sl = train(\n",
    "    model,\n",
    "    dataset,\n",
    "    optim.Adam(model.parameters(), lr=1e-3, weight_decay=0),#1e-5),\n",
    "    nn.MSELoss(),\n",
    "    1,\n",
    "    2,\n",
    "    64,\n",
    "    lam=1e-3\n",
    ")"
   ]
  },
  {
   "cell_type": "code",
   "execution_count": 11,
   "id": "490bd3b6-f4a3-4d4d-a0e8-6b74a7adf148",
   "metadata": {
    "tags": []
   },
   "outputs": [
    {
     "data": {
      "image/png": "[encoded data removed]",
      "text/plain": [
       "<Figure size 640x480 with 1 Axes>"
      ]
     },
     "metadata": {},
     "output_type": "display_data"
    }
   ],
   "source": [
    "fig, ax = plt.subplots(1)\n",
    "ax.plot(l)\n",
    "# ax.plot(sl)\n",
    "ax.set_yscale('log')\n",
    "plt.show()"
   ]
  },
  {
   "cell_type": "code",
   "execution_count": 9,
   "id": "b15990d4-c22f-486e-8a20-3eb4c3b59147",
   "metadata": {},
   "outputs": [
    {
     "name": "stdout",
     "output_type": "stream",
     "text": [
      "tensor(5) tensor([3.2553]) tensor(3.0439)\n",
      "tensor(3) tensor([3.1649]) tensor(0.0272)\n",
      "tensor(4) tensor([3.0729]) tensor(0.8595)\n",
      "tensor(3) tensor([3.2149]) tensor(0.0462)\n",
      "tensor(3) tensor([3.0026]) tensor(6.5336e-06)\n",
      "tensor(4) tensor([3.2269]) tensor(0.5977)\n",
      "tensor(1) tensor([3.2269]) tensor(4.9591)\n",
      "tensor(5) tensor([3.1789]) tensor(3.3163)\n",
      "tensor(2) tensor([3.2348]) tensor(1.5249)\n",
      "tensor(5) tensor([3.1442]) tensor(3.4439)\n"
     ]
    }
   ],
   "source": [
    "### test\n",
    "for i in range(10):\n",
    "    with torch.no_grad():\n",
    "        data, target_nodes, r = dataset[i]\n",
    "        # separate data\n",
    "        x, edge_index, rating = data\n",
    "        edge_type = rating - 1\n",
    "        tgt_u, tgt_m = target_nodes\n",
    "        \n",
    "        # edge_index = edge_index[[1,0]]\n",
    "        # print(edge_index[:,:10])\n",
    "        \n",
    "        # zero gradients\n",
    "        # get prediction\n",
    "        r_hat = model(\n",
    "            x,\n",
    "            edge_index,\n",
    "            edge_type,\n",
    "            tgt_u,\n",
    "            tgt_m\n",
    "        )\n",
    "        print(r, r_hat, torch.nn.functional.mse_loss(r.float(), r_hat.squeeze()))"
   ]
  },
  {
   "cell_type": "code",
   "execution_count": null,
   "id": "00b623c3-c134-4386-aee6-faa7ae4fef27",
   "metadata": {},
   "outputs": [],
   "source": []
  }
 ],
 "metadata": {
  "kernelspec": {
   "display_name": "Python 3 (ipykernel)",
   "language": "python",
   "name": "python3"
  },
  "language_info": {
   "codemirror_mode": {
    "name": "ipython",
    "version": 3
   },
   "file_extension": ".py",
   "mimetype": "text/x-python",
   "name": "python",
   "nbconvert_exporter": "python",
   "pygments_lexer": "ipython3",
   "version": "3.11.4"
  }
 },
 "nbformat": 4,
 "nbformat_minor": 5
}
