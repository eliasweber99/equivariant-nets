{
 "cells": [
  {
   "cell_type": "code",
   "execution_count": 1,
   "id": "3352f712-99a5-4208-b3c3-c98e7ae99e4b",
   "metadata": {},
   "outputs": [],
   "source": [
    "import torch\n",
    "from torch import nn, optim\n",
    "from torch.utils.data import DataLoader, Dataset, random_split\n",
    "from torch.nn import functional as F\n",
    "\n",
    "from torchvision.datasets import CIFAR10, CelebA, ImageNet\n",
    "from torchvision import transforms as T\n",
    "\n",
    "import matplotlib.pyplot as plt\n",
    "\n",
    "from models import *\n",
    "from utils import *\n",
    "from train import train\n",
    "from groups import *"
   ]
  },
  {
   "cell_type": "markdown",
   "id": "6dd6aa9a-5053-4299-8504-f6861a7bf799",
   "metadata": {
    "jp-MarkdownHeadingCollapsed": true
   },
   "source": [
    "##### Data"
   ]
  },
  {
   "cell_type": "code",
   "execution_count": 2,
   "id": "a0ac1b3b-4732-4905-8aba-191e5bd9da4b",
   "metadata": {},
   "outputs": [],
   "source": [
    "batch_size = 2"
   ]
  },
  {
   "cell_type": "code",
   "execution_count": 3,
   "id": "27bdddd4-49b3-43e3-8801-879b6d094865",
   "metadata": {},
   "outputs": [],
   "source": [
    "# traindata = CelebA('./data', split='train', transform = T.Compose([T.ToTensor(), T.Normalize(.5, .5), T.Resize((218, 218), antialias=True)]), download=True)\n",
    "# testdata = CelebA('./data', split='test', transform = T.Compose([T.ToTensor(), T.Normalize(.5, .5), T.Resize((218, 218), antialias=True)]))#, download=True)\n",
    "valdata = CelebA('./data', split='valid', transform = T.Compose([T.ToTensor(), T.Normalize(.5, .5), T.Resize((218, 218), antialias=True)]))#, download=True)"
   ]
  },
  {
   "cell_type": "code",
   "execution_count": 4,
   "id": "7dcc6c11-2bb4-467c-8ba8-7348cee9f1d3",
   "metadata": {},
   "outputs": [],
   "source": [
    "# trainloader = DataLoader(traindata, batch_size=batch_size, shuffle=True, drop_last=True)\n",
    "# testloader = DataLoader(testdata, batch_size=batch_size, shuffle=True, drop_last=True)\n",
    "valloader = DataLoader(valdata, batch_size=batch_size, shuffle=True, drop_last=True)"
   ]
  },
  {
   "cell_type": "code",
   "execution_count": 5,
   "id": "c5c4cf8d-6713-4219-92e2-7ef0fa3ef758",
   "metadata": {},
   "outputs": [
    {
     "data": {
      "text/plain": [
       "device(type='cpu')"
      ]
     },
     "execution_count": 5,
     "metadata": {},
     "output_type": "execute_result"
    }
   ],
   "source": [
    "device = torch.device('cuda' if torch.cuda.is_available() else 'cpu')\n",
    "device"
   ]
  },
  {
   "cell_type": "markdown",
   "id": "383512a5-b97c-47e2-87cc-25f5b3d78b45",
   "metadata": {
    "jp-MarkdownHeadingCollapsed": true
   },
   "source": [
    "##### CNN"
   ]
  },
  {
   "cell_type": "code",
   "execution_count": null,
   "id": "b2e71202-1b4c-4e2f-804a-85a937e43ae7",
   "metadata": {},
   "outputs": [],
   "source": [
    "cnnmodel = CNN(\n",
    "    [3, 16, 32, 64, 128, 256], \n",
    "    [9, 9, 9, 9, 5],\n",
    "    [0, 0, 0, 0, 0], \n",
    "    (256, 40),\n",
    "    0,\n",
    "    True,\n",
    "    device\n",
    ")\n",
    "print(cnnmodel.n_params)"
   ]
  },
  {
   "cell_type": "code",
   "execution_count": null,
   "id": "d566c02b-3169-4740-9f9a-21172dbd8bbd",
   "metadata": {},
   "outputs": [],
   "source": [
    "train_loss, reg_loss, train_acc, val_loss, val_acc = train(\n",
    "    cnnmodel,\n",
    "    optim.Adam,\n",
    "    nn.BCELoss(),\n",
    "    1,\n",
    "    1e-3,\n",
    "    trainloader, \n",
    "    valloader,\n",
    "    reg_str = 1e-1,\n",
    "    reg_ord = 2,\n",
    "    celeba = True\n",
    ")"
   ]
  },
  {
   "cell_type": "code",
   "execution_count": null,
   "id": "37c96ed9-ba22-467e-820e-73cbdf05138a",
   "metadata": {},
   "outputs": [],
   "source": [
    "_, _ = plot_losses(train_loss, reg_loss, val_loss, train_acc, val_acc)"
   ]
  },
  {
   "cell_type": "code",
   "execution_count": null,
   "id": "8b035213-21c5-4e05-8cf2-4f68b8cf94ce",
   "metadata": {},
   "outputs": [],
   "source": [
    "calc_accuracy(cnnmodel, testloader)"
   ]
  },
  {
   "cell_type": "markdown",
   "id": "c84a7638-ad8d-4988-8b71-701261829147",
   "metadata": {
    "jp-MarkdownHeadingCollapsed": true
   },
   "source": [
    "##### p4CNN"
   ]
  },
  {
   "cell_type": "code",
   "execution_count": null,
   "id": "edc624b1-e2b9-42f2-ad6c-b9d8992f2442",
   "metadata": {},
   "outputs": [],
   "source": [
    "scale = 2\n",
    "p4model = GroupCNN(\n",
    "    group=C4,\n",
    "    channels=[3, int(16//scale), int(32//scale), int(64//scale), int(128//scale), int(256//scale)], \n",
    "    kernel_sizes=[9, 9, 9, 9, 5],\n",
    "    paddings=0,\n",
    "    pooling_kernels=[(1,2,2), (1,2,2), (1,2,2), (1,2,2), (4,2,2)],\n",
    "    pooling_strides=[(1,2,2), (1,2,2), (1,2,2), (1,2,2), (1,2,2)],\n",
    "    pooling_paddings=[(0,0,0), (0,0,0), (0,0,0), (0,0,0), (0,0,0)],\n",
    "    output_dims=(256, 40),\n",
    "    sigmoid_out=True,\n",
    "    device=device\n",
    ")\n",
    "print(p4model.n_params)"
   ]
  },
  {
   "cell_type": "code",
   "execution_count": null,
   "id": "37906290-7b91-498c-aac4-e0cc40412c83",
   "metadata": {},
   "outputs": [],
   "source": [
    "train_loss, reg_loss, train_acc, val_loss, val_acc = train(\n",
    "    p4model,\n",
    "    optim.Adam,\n",
    "    nn.CrossEntropyLoss(),\n",
    "    1,\n",
    "    1e-3,\n",
    "    trainloader, \n",
    "    valloader,\n",
    "    reg_str = 1e-1,\n",
    "    reg_ord = 2,\n",
    "    celeba=True\n",
    ")"
   ]
  },
  {
   "cell_type": "code",
   "execution_count": null,
   "id": "5058c8d4-8124-4804-a8f2-9a5621f04390",
   "metadata": {},
   "outputs": [],
   "source": [
    "_, _ = plot_losses(train_loss, reg_loss, val_loss, train_acc, val_acc)"
   ]
  },
  {
   "cell_type": "code",
   "execution_count": null,
   "id": "f8a703fd-8cc5-4dcd-9d7b-12450cefff2c",
   "metadata": {},
   "outputs": [],
   "source": [
    "calc_accuracy(p4model, test_loader)"
   ]
  },
  {
   "cell_type": "markdown",
   "id": "f17c9f4c-b784-450b-b963-f990b30c7a64",
   "metadata": {},
   "source": [
    "##### p4mCNN"
   ]
  },
  {
   "cell_type": "code",
   "execution_count": 8,
   "id": "82f0774e-7b34-496b-a01f-7d0cc702ef46",
   "metadata": {},
   "outputs": [
    {
     "name": "stdout",
     "output_type": "stream",
     "text": [
      "1658045\n"
     ]
    }
   ],
   "source": [
    "scale =  2.8 # ~sqrt(8)\n",
    "p4mmodel = GroupCNN(\n",
    "    group=D4,\n",
    "    channels=[3, int(16//scale), int(32//scale), int(64//scale), int(128//scale), int(256//scale)], \n",
    "    kernel_sizes=[9, 9, 9, 9, 5],\n",
    "    paddings=0,\n",
    "    pooling_kernels=[(1,2,2), (1,2,2), (1,2,2), (1,2,2), (8,2,2)],\n",
    "    pooling_strides=[(1,2,2), (1,2,2), (1,2,2), (1,2,2), (1,2,2)],\n",
    "    pooling_paddings=[(0,0,0), (0,0,0), (0,0,0), (0,0,0), (0,0,0)],\n",
    "    output_dims=(int(256//scale), 40),\n",
    "    sigmoid_out=True,\n",
    "    # device=device\n",
    ")\n",
    "print(p4mmodel.n_params)"
   ]
  },
  {
   "cell_type": "code",
   "execution_count": null,
   "id": "a5c54200-7715-46ae-b365-8c9bc68d5ffe",
   "metadata": {},
   "outputs": [],
   "source": [
    "train_loss, reg_loss, train_acc, val_loss, val_acc = train(\n",
    "    p4mmodel,\n",
    "    optim.Adam,\n",
    "    nn.BCELoss(),\n",
    "    1,\n",
    "    1e-3,\n",
    "    trainloader, \n",
    "    valloader,\n",
    "    reg_str = 1e-1,\n",
    "    reg_ord = 2,\n",
    "    celeba=True,\n",
    ")"
   ]
  },
  {
   "cell_type": "code",
   "execution_count": null,
   "id": "29dbcac5-693d-4ba0-b69a-5ce0cbb00ae1",
   "metadata": {},
   "outputs": [],
   "source": [
    "_, _ = plot_losses(train_loss, reg_loss, val_loss, train_acc, val_acc)"
   ]
  },
  {
   "cell_type": "code",
   "execution_count": null,
   "id": "130f539e-9f76-4bee-b4f3-f7708d649a44",
   "metadata": {},
   "outputs": [],
   "source": [
    "calc_accuracy(p4mmodel, test_loader)"
   ]
  }
 ],
 "metadata": {
  "kernelspec": {
   "display_name": "Python 3 (ipykernel)",
   "language": "python",
   "name": "python3"
  },
  "language_info": {
   "codemirror_mode": {
    "name": "ipython",
    "version": 3
   },
   "file_extension": ".py",
   "mimetype": "text/x-python",
   "name": "python",
   "nbconvert_exporter": "python",
   "pygments_lexer": "ipython3",
   "version": "3.11.4"
  }
 },
 "nbformat": 4,
 "nbformat_minor": 5
}
